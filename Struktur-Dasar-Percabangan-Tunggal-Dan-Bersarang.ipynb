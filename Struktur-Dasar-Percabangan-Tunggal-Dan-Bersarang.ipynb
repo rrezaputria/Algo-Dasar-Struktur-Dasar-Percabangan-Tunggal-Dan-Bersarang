{
 "cells": [
  {
   "cell_type": "code",
   "execution_count": 1,
   "id": "3048df28",
   "metadata": {},
   "outputs": [
    {
     "name": "stdout",
     "output_type": "stream",
     "text": [
      "A. Struktur Dasar Percabangan Tunggal\n"
     ]
    }
   ],
   "source": [
    "print(\"A. Struktur Dasar Percabangan Tunggal\")"
   ]
  },
  {
   "cell_type": "code",
   "execution_count": 2,
   "id": "feacad0b",
   "metadata": {},
   "outputs": [
    {
     "name": "stdout",
     "output_type": "stream",
     "text": [
      "1. Menentukan Suatu Bilangan Termasuk Bilangan Positif atau Negatif\n"
     ]
    }
   ],
   "source": [
    "print(\"1. Menentukan Suatu Bilangan Termasuk Bilangan Positif atau Negatif\")"
   ]
  },
  {
   "cell_type": "code",
   "execution_count": 3,
   "id": "90738c98",
   "metadata": {},
   "outputs": [
    {
     "name": "stdout",
     "output_type": "stream",
     "text": [
      "Masukkan bilangan : 9\n"
     ]
    }
   ],
   "source": [
    "bilangan = int(input(\"Masukkan bilangan : \"))"
   ]
  },
  {
   "cell_type": "code",
   "execution_count": 4,
   "id": "cd73708f",
   "metadata": {},
   "outputs": [
    {
     "name": "stdout",
     "output_type": "stream",
     "text": [
      "Bilangan 9 termasuk bilangan positif\n"
     ]
    }
   ],
   "source": [
    "if bilangan >0:\n",
    "    print(\"Bilangan\", bilangan, \"termasuk bilangan positif\")\n",
    "else:\n",
    "    print(\"Bilangan\", bilangan, \"termasuk bilangan negatif\")"
   ]
  },
  {
   "cell_type": "code",
   "execution_count": 5,
   "id": "97d2180e",
   "metadata": {},
   "outputs": [
    {
     "name": "stdout",
     "output_type": "stream",
     "text": [
      "Masukkan bilangan : -11\n"
     ]
    }
   ],
   "source": [
    "bilangan = int(input(\"Masukkan bilangan : \"))"
   ]
  },
  {
   "cell_type": "code",
   "execution_count": 6,
   "id": "604c5f27",
   "metadata": {},
   "outputs": [
    {
     "name": "stdout",
     "output_type": "stream",
     "text": [
      "Bilangan -11 termasuk bilangan negatif\n"
     ]
    }
   ],
   "source": [
    "if bilangan >0:\n",
    "    print(\"Bilangan\", bilangan, \"termasuk bilangan positif\")\n",
    "else:\n",
    "    print(\"Bilangan\", bilangan, \"termasuk bilangan negatif\")"
   ]
  },
  {
   "cell_type": "code",
   "execution_count": 7,
   "id": "603e5638",
   "metadata": {},
   "outputs": [
    {
     "name": "stdout",
     "output_type": "stream",
     "text": [
      "2. Menentukan Suatu Karakter Termasuk Huruf Vokal atau Konsonan\n"
     ]
    }
   ],
   "source": [
    "print(\"2. Menentukan Suatu Karakter Termasuk Huruf Vokal atau Konsonan\")"
   ]
  },
  {
   "cell_type": "code",
   "execution_count": 8,
   "id": "1996fdcd",
   "metadata": {},
   "outputs": [
    {
     "name": "stdout",
     "output_type": "stream",
     "text": [
      "Masukkan huruf : A\n"
     ]
    }
   ],
   "source": [
    "karakter_huruf = str(input(\"Masukkan huruf : \"))"
   ]
  },
  {
   "cell_type": "code",
   "execution_count": 9,
   "id": "c7e683a4",
   "metadata": {},
   "outputs": [],
   "source": [
    "huruf_vokal = 'aiueo'"
   ]
  },
  {
   "cell_type": "code",
   "execution_count": 10,
   "id": "616f9b7b",
   "metadata": {},
   "outputs": [
    {
     "name": "stdout",
     "output_type": "stream",
     "text": [
      "Karakter huruf A tersebut termasuk huruf vokal\n"
     ]
    }
   ],
   "source": [
    "if karakter_huruf.lower() in huruf_vokal:\n",
    "    print(\"Karakter huruf\", karakter_huruf, \"tersebut termasuk huruf vokal\")\n",
    "else:\n",
    "    print(\"Karakter huruf\", karakter_huruf, \" tersebut termasuk huruf konsonan\")"
   ]
  },
  {
   "cell_type": "code",
   "execution_count": 11,
   "id": "df2a5d5a",
   "metadata": {},
   "outputs": [
    {
     "name": "stdout",
     "output_type": "stream",
     "text": [
      "Masukkan huruf : R\n"
     ]
    }
   ],
   "source": [
    "karakter_huruf = str(input(\"Masukkan huruf : \"))"
   ]
  },
  {
   "cell_type": "code",
   "execution_count": 12,
   "id": "e584663f",
   "metadata": {},
   "outputs": [
    {
     "name": "stdout",
     "output_type": "stream",
     "text": [
      "Karakter huruf R  tersebut termasuk huruf konsonan\n"
     ]
    }
   ],
   "source": [
    "if karakter_huruf.lower() in huruf_vokal:\n",
    "    print(\"Karakter huruf\", karakter_huruf, \"tersebut termasuk huruf vokal\")\n",
    "else:\n",
    "    print(\"Karakter huruf\", karakter_huruf, \" tersebut termasuk huruf konsonan\")"
   ]
  },
  {
   "cell_type": "code",
   "execution_count": 13,
   "id": "1d8c88ba",
   "metadata": {},
   "outputs": [
    {
     "name": "stdout",
     "output_type": "stream",
     "text": [
      "3. Menentukan Bilangan yang Terbesar\n"
     ]
    }
   ],
   "source": [
    "print(\"3. Menentukan Bilangan yang Terbesar\")"
   ]
  },
  {
   "cell_type": "code",
   "execution_count": 14,
   "id": "bd86208d",
   "metadata": {},
   "outputs": [
    {
     "name": "stdout",
     "output_type": "stream",
     "text": [
      "Masukkan bilangan a : 5\n",
      "Masukkan bilangan b : 1\n",
      "Masukkan bilangan c : 9\n"
     ]
    }
   ],
   "source": [
    "a = int(input(\"Masukkan bilangan a : \"))\n",
    "b = int(input(\"Masukkan bilangan b : \"))\n",
    "c = int(input(\"Masukkan bilangan c : \"))"
   ]
  },
  {
   "cell_type": "code",
   "execution_count": 15,
   "id": "25b5c07e",
   "metadata": {},
   "outputs": [
    {
     "name": "stdout",
     "output_type": "stream",
     "text": [
      "5 1 9\n",
      "Maka bilangan yang terbesar adalah 9\n"
     ]
    }
   ],
   "source": [
    "maksimal = 0\n",
    "\n",
    "print(a, b, c)\n",
    "if a > b:\n",
    "    maksimal = a\n",
    "else:\n",
    "    maksimal = b\n",
    "if c > maksimal:\n",
    "    maksimal = c\n",
    "    print(\"Maka bilangan yang terbesar adalah\", maksimal)\n",
    "else:\n",
    "    print(\"Tidak di temukan bilangan yang terbesar\")"
   ]
  },
  {
   "cell_type": "code",
   "execution_count": 16,
   "id": "dddddeec",
   "metadata": {},
   "outputs": [
    {
     "name": "stdout",
     "output_type": "stream",
     "text": [
      "Masukkan bilangan a : 1\n",
      "Masukkan bilangan b : 1\n",
      "Masukkan bilangan c : 1\n"
     ]
    }
   ],
   "source": [
    "a = int(input(\"Masukkan bilangan a : \"))\n",
    "b = int(input(\"Masukkan bilangan b : \"))\n",
    "c = int(input(\"Masukkan bilangan c : \"))"
   ]
  },
  {
   "cell_type": "code",
   "execution_count": 17,
   "id": "f58adbb2",
   "metadata": {},
   "outputs": [
    {
     "name": "stdout",
     "output_type": "stream",
     "text": [
      "1 1 1\n",
      "Tidak di temukan bilangan yang terbesar\n"
     ]
    }
   ],
   "source": [
    "maksimal = 0\n",
    "\n",
    "print(a, b, c)\n",
    "if a > b:\n",
    "    maksimal = a\n",
    "else:\n",
    "    maksimal = b\n",
    "if c > maksimal:\n",
    "    maksimal = c\n",
    "    print(\"Maka bilangan yang terbesar adalah\", maksimal)\n",
    "else:\n",
    "    print(\"Tidak di temukan bilangan yang terbesar\")"
   ]
  },
  {
   "cell_type": "code",
   "execution_count": 18,
   "id": "6687cadc",
   "metadata": {},
   "outputs": [
    {
     "name": "stdout",
     "output_type": "stream",
     "text": [
      "B. Struktur Dasar Percabangan Bersarang\n"
     ]
    }
   ],
   "source": [
    "print(\"B. Struktur Dasar Percabangan Bersarang\")"
   ]
  },
  {
   "cell_type": "code",
   "execution_count": 19,
   "id": "4657482c",
   "metadata": {},
   "outputs": [
    {
     "name": "stdout",
     "output_type": "stream",
     "text": [
      "1. Mengkonverensi Inputan Angka ke Nama Bulan\n"
     ]
    }
   ],
   "source": [
    "print(\"1. Mengkonverensi Inputan Angka ke Nama Bulan\")"
   ]
  },
  {
   "cell_type": "code",
   "execution_count": 20,
   "id": "3b5ef64d",
   "metadata": {},
   "outputs": [
    {
     "name": "stdout",
     "output_type": "stream",
     "text": [
      "Masukkan angka : 1\n"
     ]
    }
   ],
   "source": [
    "angka = int(input(\"Masukkan angka : \"))"
   ]
  },
  {
   "cell_type": "code",
   "execution_count": 22,
   "id": "2aba2e8a",
   "metadata": {},
   "outputs": [
    {
     "name": "stdout",
     "output_type": "stream",
     "text": [
      "Angka tersebut 1 di konverensi menjadi bulan Januari\n"
     ]
    }
   ],
   "source": [
    "if angka ==1:\n",
    "    print(\"Angka tersebut\", angka, \"di konverensi menjadi bulan Januari\")\n",
    "elif angka ==2:\n",
    "    print(\"Angka tersebut\", angka, \"di konverensi menjadi bulan Februari\")\n",
    "elif angka ==3:\n",
    "    print(\"Angka tersebut\", angka, \"di konverensi menjadi bulan Maret\")\n",
    "elif angka ==4:\n",
    "    print(\"Angka tersebut\", angka, \"di konverensi menjadi bulan April\")\n",
    "elif angka ==5:\n",
    "    print(\"Angka tersebut\", angka, \"di konverensi menjadi bulan Mei\")\n",
    "elif angka ==6:\n",
    "    print(\"Angka tersebut\", angka, \"di konverensi menjadi bulan Juni\")\n",
    "elif angka ==7:\n",
    "    print(\"Angka tersebut\", angka, \"dikonverensi menjadi bulan Juli\")\n",
    "elif angka ==8:\n",
    "    print(\"Angka tersebut\", angka, \"di konverensi menjadi bulan Agustus\")\n",
    "elif angka ==9:\n",
    "    print(\"Angka tersebut\", angka, \"di konverensi menjadi bulan September\")\n",
    "elif angka ==10:\n",
    "    print(\"Angka tersebut\", angka, \"di konverensi menjadi bulan Oktober\")\n",
    "elif angka ==11:\n",
    "    print(\"Angka tersebut\", angka, \"di konverensi menjadi bulan November\")\n",
    "elif angka ==12:\n",
    "    print(\"Angka tersebut\", angka, \"di konverensi menjadi bulan Desember\")\n",
    "else:\n",
    "    print(\"Angka tersebut\", angka, \"tidak dapat di konverensu menjadi bulan\")"
   ]
  },
  {
   "cell_type": "code",
   "execution_count": 23,
   "id": "a8746e2c",
   "metadata": {},
   "outputs": [
    {
     "name": "stdout",
     "output_type": "stream",
     "text": [
      "2. Membuat Program Aritmatika (Penjumlahan, Pengurangan, Perkalian, dan Pembagian)\n"
     ]
    }
   ],
   "source": [
    "print(\"2. Membuat Program Aritmatika (Penjumlahan, Pengurangan, Perkalian, dan Pembagian)\")"
   ]
  },
  {
   "cell_type": "code",
   "execution_count": 24,
   "id": "40345d80",
   "metadata": {},
   "outputs": [
    {
     "name": "stdout",
     "output_type": "stream",
     "text": [
      "Masukkan nilai a : 10\n",
      "Masukkan nilai b : 2\n"
     ]
    }
   ],
   "source": [
    "a = float(input(\"Masukkan nilai a : \"))\n",
    "b = float(input(\"Masukkan nilai b : \"))"
   ]
  },
  {
   "cell_type": "code",
   "execution_count": 25,
   "id": "10b5625f",
   "metadata": {},
   "outputs": [
    {
     "name": "stdout",
     "output_type": "stream",
     "text": [
      "Masukkan operasi aritmatika (Pilihan operasi aritmatika penjumlahan, pengurangan, perkalian, dan pembagian) : perkalian\n"
     ]
    }
   ],
   "source": [
    "operasi_bil = str(input(\"Masukkan operasi aritmatika (Pilihan operasi aritmatika penjumlahan, pengurangan, perkalian, dan pembagian) : \"))"
   ]
  },
  {
   "cell_type": "code",
   "execution_count": 26,
   "id": "fed99732",
   "metadata": {},
   "outputs": [
    {
     "name": "stdout",
     "output_type": "stream",
     "text": [
      "Hasil dari perkalian kedua bilangan tersebut 20.000000\n"
     ]
    }
   ],
   "source": [
    "def penjumlahan():\n",
    "    print(\"Hasil dari penjumlahan kedua bilangan tersebut %f\"%(a + b))\n",
    "def pengurangan():\n",
    "    print(\"Hasil dari pengurangan kedua bilangan tersebut %f\"%(a - b))\n",
    "def perkalian():\n",
    "    print(\"Hasil dari perkalian kedua bilangan tersebut %f\"%(a * b))\n",
    "def pembagian():\n",
    "    print(\"Hasil dari pembagian kedua bilangan tersebut %f\"%(a / b))\n",
    "    \n",
    "case = {'penjumlahan' : penjumlahan,\n",
    "       'pengurangan' : pengurangan,\n",
    "       'perkalian' : perkalian,\n",
    "       'pembagian' : pembagian\n",
    "}\n",
    "case[operasi_bil]()"
   ]
  },
  {
   "cell_type": "code",
   "execution_count": 27,
   "id": "9dd854f9",
   "metadata": {},
   "outputs": [
    {
     "name": "stdout",
     "output_type": "stream",
     "text": [
      "3. Membuat Program Mencari Akar-Akar dari Persamaan Kuadrat\n"
     ]
    }
   ],
   "source": [
    "print(\"3. Membuat Program Mencari Akar-Akar dari Persamaan Kuadrat\")"
   ]
  },
  {
   "cell_type": "code",
   "execution_count": 28,
   "id": "07e4700a",
   "metadata": {},
   "outputs": [
    {
     "name": "stdout",
     "output_type": "stream",
     "text": [
      "Bentuk umum persamaan kuadrat = ax^2 + bx + c = 0\n"
     ]
    }
   ],
   "source": [
    "print(\"Bentuk umum persamaan kuadrat = ax^2 + bx + c = 0\")"
   ]
  },
  {
   "cell_type": "code",
   "execution_count": 29,
   "id": "7ae4242f",
   "metadata": {},
   "outputs": [
    {
     "name": "stdout",
     "output_type": "stream",
     "text": [
      "Masukkan nilai a : 2\n",
      "Masukkan nilai b : 4\n",
      "Masukkan nilai c : 5\n"
     ]
    }
   ],
   "source": [
    "a = float(input(\"Masukkan nilai a : \"))\n",
    "b = float(input(\"Masukkan nilai b : \"))\n",
    "c = float(input(\"Masukkan nilai c : \"))"
   ]
  },
  {
   "cell_type": "code",
   "execution_count": 30,
   "id": "1d029bc8",
   "metadata": {},
   "outputs": [
    {
     "name": "stdout",
     "output_type": "stream",
     "text": [
      "Di dapat Diskriminan =  -24.0\n",
      "D<0, Memiliki akar-akar yang imajiner\n",
      "Maka di peroleh akar-akar dari persamaan kuadrat tersebut adalah x1 =  (-1+1.224744871391589j) dan x2 =  (-1-1.224744871391589j)\n"
     ]
    }
   ],
   "source": [
    "import math\n",
    "D = (b**2)-4*a*c\n",
    "print(\"Di dapat Diskriminan = \", D)\n",
    "if D >= 0:\n",
    "    if D ==0:\n",
    "        x1 = x2 = (-b/(2*a))\n",
    "        print(\"D=0, Memiliki akar-akar yang sama\")\n",
    "    else:\n",
    "        x1 = (-b + math.sqrt(D))/(2*a)\n",
    "        x2 = (-b - math.sqrt(D))/(2*a)\n",
    "        print(\"D>0, Memiliki akar-akar real yang berbeda\")\n",
    "else:\n",
    "    com = math.sqrt(abs(D))/(2*a)\n",
    "    x1 = complex(-b/(2*a),+com)\n",
    "    x2 = complex(-b/(2*a),-com)\n",
    "    print(\"D<0, Memiliki akar-akar yang imajiner\")\n",
    "print(\"Maka di peroleh akar-akar dari persamaan kuadrat tersebut adalah x1 = \", x1, \"dan x2 = \", x2)"
   ]
  },
  {
   "cell_type": "code",
   "execution_count": 31,
   "id": "1b1df21d",
   "metadata": {},
   "outputs": [
    {
     "name": "stdout",
     "output_type": "stream",
     "text": [
      "Masukkan nilai a : 2\n",
      "Masukkan nilai b : 8\n",
      "Masukkan nilai c : 3\n"
     ]
    }
   ],
   "source": [
    "a = float(input(\"Masukkan nilai a : \"))\n",
    "b = float(input(\"Masukkan nilai b : \"))\n",
    "c = float(input(\"Masukkan nilai c : \"))"
   ]
  },
  {
   "cell_type": "code",
   "execution_count": 32,
   "id": "d37bd6fa",
   "metadata": {},
   "outputs": [
    {
     "name": "stdout",
     "output_type": "stream",
     "text": [
      "Di dapat Diskriminan =  40.0\n",
      "D>0, Memiliki akar-akar real yang berbeda\n",
      "Maka di peroleh akar-akar dari persamaan kuadrat tersebut adalah x1 =  -0.41886116991581024 dan x2 =  -3.58113883008419\n"
     ]
    }
   ],
   "source": [
    "import math\n",
    "D = (b**2)-4*a*c\n",
    "print(\"Di dapat Diskriminan = \", D)\n",
    "if D >= 0:\n",
    "    if D ==0:\n",
    "        x1 = x2 = (-b/(2*a))\n",
    "        print(\"D=0, Memiliki akar-akar yang sama\")\n",
    "    else:\n",
    "        x1 = (-b + math.sqrt(D))/(2*a)\n",
    "        x2 = (-b - math.sqrt(D))/(2*a)\n",
    "        print(\"D>0, Memiliki akar-akar real yang berbeda\")\n",
    "else:\n",
    "    com = math.sqrt(abs(D))/(2*a)\n",
    "    x1 = complex(-b/(2*a),+com)\n",
    "    x2 = complex(-b/(2*a),-com)\n",
    "    print(\"D<0, Memiliki akar-akar yang imajiner\")\n",
    "print(\"Maka di peroleh akar-akar dari persamaan kuadrat tersebut adalah x1 = \", x1, \"dan x2 = \", x2)"
   ]
  },
  {
   "cell_type": "code",
   "execution_count": 33,
   "id": "10f71d38",
   "metadata": {},
   "outputs": [
    {
     "name": "stdout",
     "output_type": "stream",
     "text": [
      "Masukkan nilai a : 1\n",
      "Masukkan nilai b : 2\n",
      "Masukkan nilai c : 1\n"
     ]
    }
   ],
   "source": [
    "a = float(input(\"Masukkan nilai a : \"))\n",
    "b = float(input(\"Masukkan nilai b : \"))\n",
    "c = float(input(\"Masukkan nilai c : \"))"
   ]
  },
  {
   "cell_type": "code",
   "execution_count": 34,
   "id": "3dff0942",
   "metadata": {},
   "outputs": [
    {
     "name": "stdout",
     "output_type": "stream",
     "text": [
      "Di dapat Diskriminan =  0.0\n",
      "D=0, Memiliki akar-akar yang sama\n",
      "Maka di peroleh akar-akar dari persamaan kuadrat tersebut adalah x1 =  -1.0 dan x2 =  -1.0\n"
     ]
    }
   ],
   "source": [
    "import math\n",
    "D = (b**2)-4*a*c\n",
    "print(\"Di dapat Diskriminan = \", D)\n",
    "if D >= 0:\n",
    "    if D ==0:\n",
    "        x1 = x2 = (-b/(2*a))\n",
    "        print(\"D=0, Memiliki akar-akar yang sama\")\n",
    "    else:\n",
    "        x1 = (-b + math.sqrt(D))/(2*a)\n",
    "        x2 = (-b - math.sqrt(D))/(2*a)\n",
    "        print(\"D>0, Memiliki akar-akar real yang berbeda\")\n",
    "else:\n",
    "    com = math.sqrt(abs(D))/(2*a)\n",
    "    x1 = complex(-b/(2*a),+com)\n",
    "    x2 = complex(-b/(2*a),-com)\n",
    "    print(\"D<0, Memiliki akar-akar yang imajiner\")\n",
    "print(\"Maka di peroleh akar-akar dari persamaan kuadrat tersebut adalah x1 = \", x1, \"dan x2 = \", x2)"
   ]
  },
  {
   "cell_type": "code",
   "execution_count": null,
   "id": "5fea0c46",
   "metadata": {},
   "outputs": [],
   "source": []
  }
 ],
 "metadata": {
  "kernelspec": {
   "display_name": "Python 3 (ipykernel)",
   "language": "python",
   "name": "python3"
  },
  "language_info": {
   "codemirror_mode": {
    "name": "ipython",
    "version": 3
   },
   "file_extension": ".py",
   "mimetype": "text/x-python",
   "name": "python",
   "nbconvert_exporter": "python",
   "pygments_lexer": "ipython3",
   "version": "3.9.12"
  }
 },
 "nbformat": 4,
 "nbformat_minor": 5
}
